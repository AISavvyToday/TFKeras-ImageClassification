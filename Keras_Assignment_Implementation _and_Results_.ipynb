{
 "cells": [
  {
   "cell_type": "markdown",
   "metadata": {
    "id": "nQrpKRkEIBB5"
   },
   "source": [
    "# Applied DS 2 - Keras \n",
    "The sections are:\n",
    "\n",
    "1. Data Processing\n",
    "2. Model Definition\n",
    "3. Model Training\n",
    "4. Model Evaluation"
   ]
  },
  {
   "cell_type": "code",
   "execution_count": 31,
   "metadata": {
    "id": "eBNRzib8voMm"
   },
   "outputs": [],
   "source": [
    "# Enter your module imports here, some modules are already provided\n",
    "\n",
    "import numpy as np\n",
    "import matplotlib.pyplot as plt\n",
    "import tensorflow as tf\n",
    "from tensorflow import keras\n",
    "import os\n",
    "import pathlib\n",
    "import pandas as pd\n",
    "import seaborn as sns\n",
    "from sklearn.metrics import confusion_matrix as cf_\n",
    "\n",
    "from tensorflow.keras import layers, Model\n",
    "from tensorflow.keras.callbacks import ModelCheckpoint, LearningRateScheduler"
   ]
  },
  {
   "cell_type": "code",
   "execution_count": 12,
   "metadata": {
    "colab": {
     "base_uri": "https://localhost:8080/"
    },
    "id": "MGHk085OWCT_",
    "outputId": "50a1b52a-be01-4a3a-a224-aa34c6065d0a"
   },
   "outputs": [
    {
     "name": "stdout",
     "output_type": "stream",
     "text": [
      "Mounted at /content/drive\n"
     ]
    }
   ],
   "source": [
    "# CodeGrade Tag Init1\n",
    "from google.colab import drive\n",
    "drive.mount('/content/drive')"
   ]
  },
  {
   "cell_type": "markdown",
   "metadata": {
    "id": "PN-7QYYKKCOH"
   },
   "source": [
    "# Data Processing\n",
    "\n"
   ]
  },
  {
   "cell_type": "code",
   "execution_count": 13,
   "metadata": {
    "id": "9yWqczq8KGI6"
   },
   "outputs": [],
   "source": [
    "\n",
    "\n",
    "label_dict = {'cat' : 0,\n",
    "              'dog' : 1,\n",
    "              'wild' : 2}\n",
    "\n",
    "# This function is provided to read in the image files from the folder on your\n",
    "# Google Drive\n",
    "def parse_image(filename):\n",
    "  parts = tf.strings.split(filename, os.sep)\n",
    "  label = parts[-2]\n",
    "  label = tf.strings.to_number(label)\n",
    "\n",
    "  image = tf.io.read_file(filename)\n",
    "  image = tf.io.decode_jpeg(image)\n",
    "  return image, label\n",
    "\n",
    "img_loc = \"/content/drive/MyDrive/Animals/\"\n",
    "\n",
    "train_list_ds = tf.data.Dataset.list_files(img_loc + \"train/*/*\")\n",
    "valid_list_ds = tf.data.Dataset.list_files(img_loc + \"val/*/*\")\n"
   ]
  },
  {
   "cell_type": "markdown",
   "metadata": {
    "id": "q3hIMuVQM4AN"
   },
   "source": [
    "**Create a function called \"img_process\" converts the images to float32 datatype and resizes them to 64x64 pixels.**"
   ]
  },
  {
   "cell_type": "code",
   "execution_count": 14,
   "metadata": {
    "id": "BxtGcsAWM3gs"
   },
   "outputs": [],
   "source": [
    "\n",
    "### Write a function called img_process, which takes in the image and label as\n",
    "### inputs, converts the data type of the image to tf.float32, resizes the\n",
    "### image to (64,64), and finally returns the image and labels.\n",
    "\n",
    "\n",
    "def img_process(image, label):\n",
    "\n",
    "    image = tf.image.convert_image_dtype(image, tf.float32) # Convert image data type\n",
    "    image = tf.image.resize(image, [64, 64]) #resize the image to (64, 64)\n",
    "\n",
    "    return image, label\n",
    "\n"
   ]
  },
  {
   "cell_type": "markdown",
   "metadata": {
    "id": "G51UPu0fNmNf"
   },
   "source": [
    "**Using the tf.data API, load in the training and validation data. Be mindful of efficient data processing good practice to minimise the time it takes to load the data.**"
   ]
  },
  {
   "cell_type": "code",
   "execution_count": 15,
   "metadata": {
    "id": "VNUS8p98Ph5L"
   },
   "outputs": [],
   "source": [
    "\n",
    "### Use the parse_image and img_process functions to construct the training and\n",
    "### validation datasets. You should utilise good practice in optimising the\n",
    "### dataset loading. Use a batch size of 128. Use techniques like caching and\n",
    "### prefetching to efficiently load the data.\n",
    "\n",
    "\n",
    "# Loading and preprocessing training data\n",
    "train_ds = train_list_ds.map(parse_image, num_parallel_calls=tf.data.AUTOTUNE)\n",
    "train_ds = train_ds.map(img_process, num_parallel_calls=tf.data.AUTOTUNE)\n",
    "train_ds = train_ds.cache()  # for faster access\n",
    "train_ds = train_ds.shuffle(buffer_size=1000)  # Shuffle the dataset to introcude randomness in training\n",
    "train_ds = train_ds.batch(128)  # Batch data\n",
    "train_ds = train_ds.prefetch(buffer_size=tf.data.AUTOTUNE)  # Prefetch for faster loading\n",
    "\n",
    "# Loading and preprocessing validation data\n",
    "valid_ds = valid_list_ds.map(parse_image, num_parallel_calls=tf.data.AUTOTUNE)\n",
    "valid_ds = valid_ds.map(img_process, num_parallel_calls=tf.data.AUTOTUNE)\n",
    "valid_ds = valid_ds.batch(128)\n",
    "valid_ds = valid_ds.cache()\n",
    "valid_ds = valid_ds.prefetch(buffer_size=tf.data.AUTOTUNE)\n",
    "\n"
   ]
  },
  {
   "cell_type": "markdown",
   "metadata": {
    "id": "86Uo36n_KGYb"
   },
   "source": [
    "# Model Definition\n",
    "\n",
    "**Using the Keras Functional API, create a convolutional neural network with the architecture show in the model summary below.**\n",
    "\n",
    "**A few important points to consider:**\n",
    "\n",
    "* Call the convolutional layers and the first dense layer should have ReLU activation functions. The output layer should have a SoftMax activation function.\n",
    "* Pay attention to the output shapes and the number of partmeters for each layer, as these give indications as to the correct settings for the number of filters, kernel size, stride length and padding.\n",
    "* Use the layer names provided in the summary in your model."
   ]
  },
  {
   "cell_type": "markdown",
   "metadata": {
    "id": "hBSBfH-QP6M0"
   },
   "source": [
    "\n",
    "```\n",
    "# Model Summary\n",
    "\n",
    "Model: \"model\"\n",
    "_________________________________________________________________\n",
    " Layer (type)                Output Shape              Param #   \n",
    "=================================================================\n",
    " Input (InputLayer)          [(None, 64, 64, 3)]       0         \n",
    "                                                                 \n",
    " Conv0 (Conv2D)              (None, 32, 32, 16)        1216      \n",
    "                                                                 \n",
    " Conv1 (Conv2D)              (None, 32, 32, 32)        4640      \n",
    "                                                                 \n",
    " Conv2 (Conv2D)              (None, 32, 32, 32)        9248      \n",
    "                                                                 \n",
    " Pool1 (MaxPooling2D)        (None, 16, 16, 32)        0         \n",
    "                                                                 \n",
    " Conv3 (Conv2D)              (None, 16, 16, 64)        18496     \n",
    "                                                                 \n",
    " Conv4 (Conv2D)              (None, 16, 16, 64)        36928     \n",
    "                                                                 \n",
    " Pool2 (MaxPooling2D)        (None, 8, 8, 64)          0         \n",
    "                                                                 \n",
    " Conv5 (Conv2D)              (None, 8, 8, 128)         73856     \n",
    "                                                                 \n",
    " Conv6 (Conv2D)              (None, 8, 8, 128)         147584    \n",
    "                                                                 \n",
    " GlobalPool (GlobalAverageP  (None, 128)               0         \n",
    " ooling2D)                                                       \n",
    "                                                                 \n",
    " FC1 (Dense)                 (None, 512)               66048     \n",
    "                                                                 \n",
    " Output (Dense)              (None, 10)                5130      \n",
    "                                                                 \n",
    "=================================================================\n",
    "Total params: 363146 (1.39 MB)\n",
    "Trainable params: 363146 (1.39 MB)\n",
    "Non-trainable params: 0 (0.00 Byte)\n",
    "_________________________________________________________________\n",
    "\n",
    "\n",
    "```\n",
    "\n"
   ]
  },
  {
   "cell_type": "code",
   "execution_count": 16,
   "metadata": {
    "id": "im9qipCiKJMK"
   },
   "outputs": [],
   "source": [
    "\n",
    "### Define the model using the Keras Functional API. Use the summary above as a\n",
    "### guide for the model parameters. You will need to define the filters/units of\n",
    "### the layers correctly, as well as the kernel size, stride length and padding\n",
    "### of the convolutional layers.\n",
    "\n",
    "# Input layer\n",
    "input_layer = layers.Input(shape=(64, 64, 3), name='Input')\n",
    "\n",
    "# Convolutional layers\n",
    "conv0 = layers.Conv2D(16, kernel_size=(3, 3), activation='relu', padding='same', name='Conv0')(input_layer)\n",
    "conv1 = layers.Conv2D(32, kernel_size=(3, 3), activation='relu', padding='same', name='Conv1')(conv0)\n",
    "conv2 = layers.Conv2D(32, kernel_size=(3, 3), activation='relu', padding='same', name='Conv2')(conv1)\n",
    "\n",
    "pool1 = layers.MaxPooling2D(pool_size=(2, 2), name='Pool1')(conv2)\n",
    "\n",
    "conv3 = layers.Conv2D(64, kernel_size=(3, 3), activation='relu', padding='same', name='Conv3')(pool1)\n",
    "conv4 = layers.Conv2D(64, kernel_size=(3, 3), activation='relu', padding='same', name='Conv4')(conv3)\n",
    "\n",
    "pool2 = layers.MaxPooling2D(pool_size=(2, 2), name='Pool2')(conv4)\n",
    "\n",
    "conv5 = layers.Conv2D(128, kernel_size=(3, 3), activation='relu', padding='same', name='Conv5')(pool2)\n",
    "conv6 = layers.Conv2D(128, kernel_size=(3, 3), activation='relu', padding='same', name='Conv6')(conv5)\n",
    "\n",
    "global_pool = layers.GlobalAveragePooling2D(name='GlobalPool')(conv6)\n",
    "\n",
    "# Fully connected layers\n",
    "fc1 = layers.Dense(512, activation='relu', name='FC1')(global_pool)\n",
    "\n",
    "# Output layer\n",
    "output_layer = layers.Dense(3, activation='softmax', name='Output')(fc1)\n",
    "\n",
    "# Creating the model\n",
    "model = Model(inputs=input_layer, outputs=output_layer)"
   ]
  },
  {
   "cell_type": "code",
   "execution_count": 17,
   "metadata": {
    "colab": {
     "base_uri": "https://localhost:8080/"
    },
    "id": "4ogeFQCqnz06",
    "outputId": "a8b3d3c8-11cd-4090-ab50-6d0081a749e3"
   },
   "outputs": [
    {
     "name": "stdout",
     "output_type": "stream",
     "text": [
      "Model: \"model_1\"\n",
      "_________________________________________________________________\n",
      " Layer (type)                Output Shape              Param #   \n",
      "=================================================================\n",
      " Input (InputLayer)          [(None, 64, 64, 3)]       0         \n",
      "                                                                 \n",
      " Conv0 (Conv2D)              (None, 64, 64, 16)        448       \n",
      "                                                                 \n",
      " Conv1 (Conv2D)              (None, 64, 64, 32)        4640      \n",
      "                                                                 \n",
      " Conv2 (Conv2D)              (None, 64, 64, 32)        9248      \n",
      "                                                                 \n",
      " Pool1 (MaxPooling2D)        (None, 32, 32, 32)        0         \n",
      "                                                                 \n",
      " Conv3 (Conv2D)              (None, 32, 32, 64)        18496     \n",
      "                                                                 \n",
      " Conv4 (Conv2D)              (None, 32, 32, 64)        36928     \n",
      "                                                                 \n",
      " Pool2 (MaxPooling2D)        (None, 16, 16, 64)        0         \n",
      "                                                                 \n",
      " Conv5 (Conv2D)              (None, 16, 16, 128)       73856     \n",
      "                                                                 \n",
      " Conv6 (Conv2D)              (None, 16, 16, 128)       147584    \n",
      "                                                                 \n",
      " GlobalPool (GlobalAverageP  (None, 128)               0         \n",
      " ooling2D)                                                       \n",
      "                                                                 \n",
      " FC1 (Dense)                 (None, 512)               66048     \n",
      "                                                                 \n",
      " Output (Dense)              (None, 3)                 1539      \n",
      "                                                                 \n",
      "=================================================================\n",
      "Total params: 358787 (1.37 MB)\n",
      "Trainable params: 358787 (1.37 MB)\n",
      "Non-trainable params: 0 (0.00 Byte)\n",
      "_________________________________________________________________\n"
     ]
    }
   ],
   "source": [
    "\n",
    "### Print the model summary and confirm is has the same architecture as the one\n",
    "### provided.\n",
    "\n",
    "# model summary\n",
    "model.summary() # adjusted output units to 3 as per added assignment instructions"
   ]
  },
  {
   "cell_type": "markdown",
   "metadata": {
    "id": "7Q4qQnsuP-CM"
   },
   "source": [
    "**Compile the model using the Adam Optimizer with a learning rate of ```5e-5```, ```sparse categorical crossentropy``` loss function, and ```accuracy``` metric.**"
   ]
  },
  {
   "cell_type": "code",
   "execution_count": 18,
   "metadata": {
    "id": "qndXNKsyQl2G"
   },
   "outputs": [],
   "source": [
    "\n",
    "\n",
    "# Compiling the model\n",
    "model.compile(optimizer=tf.keras.optimizers.Adam(learning_rate=5e-5),\n",
    "              loss='sparse_categorical_crossentropy',\n",
    "              metrics=['accuracy'])"
   ]
  },
  {
   "cell_type": "markdown",
   "metadata": {
    "id": "4G9gILWpKJXP"
   },
   "source": [
    "# Model Training\n",
    "\n",
    "**Create a Model Checkpoint Callback that saves the weights of the best performing epoch, based on the validation accuracy.**"
   ]
  },
  {
   "cell_type": "code",
   "execution_count": 19,
   "metadata": {
    "id": "ulXjHaiZKLLZ"
   },
   "outputs": [],
   "source": [
    "\n",
    "### Create a ModelCheckpoint callback to store the bext weights from the model,\n",
    "### based on the validation accuracy. Call this callback \"checkpoint_callback\"\n",
    "\n",
    "checkpoint_filepath = '/content/checkpoint'\n",
    "\n",
    "\n",
    "# Defining the checkpoint callback\n",
    "checkpoint_callback = ModelCheckpoint(filepath=checkpoint_filepath,\n",
    "                                      save_best_only=True,\n",
    "                                      monitor='val_accuracy',\n",
    "                                      mode='max',\n",
    "                                      verbose=1)"
   ]
  },
  {
   "cell_type": "markdown",
   "metadata": {
    "id": "9iUsL966RQMJ"
   },
   "source": [
    "**Create a Learning Rate Scheduler Callback that utilises the provided function to decrease the learning rate during training.**"
   ]
  },
  {
   "cell_type": "code",
   "execution_count": 20,
   "metadata": {
    "id": "5jhC3C7qRX1B"
   },
   "outputs": [],
   "source": [
    "\n",
    "### Using the function provided, create a LearningRateScheduler callback, call\n",
    "### it \"lr_callback\"\n",
    "\n",
    "def scheduler(epoch, lr):\n",
    "    if epoch < 10:\n",
    "        return lr\n",
    "    else:\n",
    "        return lr * tf.math.exp(-0.01)\n",
    "\n",
    "# Defining the LearningRateScheduler callback\n",
    "lr_callback = LearningRateScheduler(scheduler)"
   ]
  },
  {
   "cell_type": "markdown",
   "metadata": {
    "id": "zQbqwZNjRYIC"
   },
   "source": [
    "**Train the model for 100 epochs, using the callbacks you made previously. Store the losses and metrics to use later.**"
   ]
  },
  {
   "cell_type": "code",
   "execution_count": 21,
   "metadata": {
    "colab": {
     "base_uri": "https://localhost:8080/"
    },
    "id": "05qEIpORRfr8",
    "outputId": "3af1b8bb-a8f8-4eb0-d717-a9d0f1be4094"
   },
   "outputs": [
    {
     "name": "stdout",
     "output_type": "stream",
     "text": [
      "Epoch 1/100\n",
      "115/115 [==============================] - ETA: 0s - loss: 1.0869 - accuracy: 0.4027 \n",
      "Epoch 1: val_accuracy improved from -inf to 0.44667, saving model to /content/checkpoint\n",
      "115/115 [==============================] - 1210s 9s/step - loss: 1.0869 - accuracy: 0.4027 - val_loss: 1.0509 - val_accuracy: 0.4467 - lr: 5.0000e-05\n",
      "Epoch 2/100\n",
      "114/115 [============================>.] - ETA: 0s - loss: 0.9805 - accuracy: 0.5019\n",
      "Epoch 2: val_accuracy improved from 0.44667 to 0.46733, saving model to /content/checkpoint\n",
      "115/115 [==============================] - 6s 56ms/step - loss: 0.9804 - accuracy: 0.5020 - val_loss: 0.9710 - val_accuracy: 0.4673 - lr: 5.0000e-05\n",
      "Epoch 3/100\n",
      "114/115 [============================>.] - ETA: 0s - loss: 0.8728 - accuracy: 0.5530\n",
      "Epoch 3: val_accuracy improved from 0.46733 to 0.59800, saving model to /content/checkpoint\n",
      "115/115 [==============================] - 7s 62ms/step - loss: 0.8727 - accuracy: 0.5529 - val_loss: 0.8370 - val_accuracy: 0.5980 - lr: 5.0000e-05\n",
      "Epoch 4/100\n",
      "115/115 [==============================] - ETA: 0s - loss: 0.8315 - accuracy: 0.5794\n",
      "Epoch 4: val_accuracy did not improve from 0.59800\n",
      "115/115 [==============================] - 5s 46ms/step - loss: 0.8315 - accuracy: 0.5794 - val_loss: 0.8203 - val_accuracy: 0.5920 - lr: 5.0000e-05\n",
      "Epoch 5/100\n",
      "115/115 [==============================] - ETA: 0s - loss: 0.8000 - accuracy: 0.6034\n",
      "Epoch 5: val_accuracy improved from 0.59800 to 0.62200, saving model to /content/checkpoint\n",
      "115/115 [==============================] - 7s 59ms/step - loss: 0.8000 - accuracy: 0.6034 - val_loss: 0.7959 - val_accuracy: 0.6220 - lr: 5.0000e-05\n",
      "Epoch 6/100\n",
      "114/115 [============================>.] - ETA: 0s - loss: 0.7820 - accuracy: 0.6112\n",
      "Epoch 6: val_accuracy improved from 0.62200 to 0.62867, saving model to /content/checkpoint\n",
      "115/115 [==============================] - 7s 60ms/step - loss: 0.7817 - accuracy: 0.6115 - val_loss: 0.7851 - val_accuracy: 0.6287 - lr: 5.0000e-05\n",
      "Epoch 7/100\n",
      "115/115 [==============================] - ETA: 0s - loss: 0.7722 - accuracy: 0.6239\n",
      "Epoch 7: val_accuracy improved from 0.62867 to 0.63867, saving model to /content/checkpoint\n",
      "115/115 [==============================] - 7s 60ms/step - loss: 0.7722 - accuracy: 0.6239 - val_loss: 0.7543 - val_accuracy: 0.6387 - lr: 5.0000e-05\n",
      "Epoch 8/100\n",
      "115/115 [==============================] - ETA: 0s - loss: 0.7503 - accuracy: 0.6440\n",
      "Epoch 8: val_accuracy improved from 0.63867 to 0.64933, saving model to /content/checkpoint\n",
      "115/115 [==============================] - 6s 56ms/step - loss: 0.7503 - accuracy: 0.6440 - val_loss: 0.7784 - val_accuracy: 0.6493 - lr: 5.0000e-05\n",
      "Epoch 9/100\n",
      "114/115 [============================>.] - ETA: 0s - loss: 0.7357 - accuracy: 0.6531\n",
      "Epoch 9: val_accuracy improved from 0.64933 to 0.66867, saving model to /content/checkpoint\n",
      "115/115 [==============================] - 7s 60ms/step - loss: 0.7362 - accuracy: 0.6528 - val_loss: 0.7458 - val_accuracy: 0.6687 - lr: 5.0000e-05\n",
      "Epoch 10/100\n",
      "114/115 [============================>.] - ETA: 0s - loss: 0.7225 - accuracy: 0.6637\n",
      "Epoch 10: val_accuracy improved from 0.66867 to 0.67267, saving model to /content/checkpoint\n",
      "115/115 [==============================] - 8s 66ms/step - loss: 0.7226 - accuracy: 0.6635 - val_loss: 0.7295 - val_accuracy: 0.6727 - lr: 5.0000e-05\n",
      "Epoch 11/100\n",
      "114/115 [============================>.] - ETA: 0s - loss: 0.7071 - accuracy: 0.6802\n",
      "Epoch 11: val_accuracy improved from 0.67267 to 0.67533, saving model to /content/checkpoint\n",
      "115/115 [==============================] - 7s 57ms/step - loss: 0.7068 - accuracy: 0.6804 - val_loss: 0.6985 - val_accuracy: 0.6753 - lr: 4.9502e-05\n",
      "Epoch 12/100\n",
      "114/115 [============================>.] - ETA: 0s - loss: 0.6859 - accuracy: 0.6910\n",
      "Epoch 12: val_accuracy improved from 0.67533 to 0.69867, saving model to /content/checkpoint\n",
      "115/115 [==============================] - 8s 68ms/step - loss: 0.6859 - accuracy: 0.6911 - val_loss: 0.6731 - val_accuracy: 0.6987 - lr: 4.9010e-05\n",
      "Epoch 13/100\n",
      "114/115 [============================>.] - ETA: 0s - loss: 0.6711 - accuracy: 0.7017\n",
      "Epoch 13: val_accuracy improved from 0.69867 to 0.71667, saving model to /content/checkpoint\n",
      "115/115 [==============================] - 7s 58ms/step - loss: 0.6709 - accuracy: 0.7017 - val_loss: 0.6571 - val_accuracy: 0.7167 - lr: 4.8522e-05\n",
      "Epoch 14/100\n",
      "114/115 [============================>.] - ETA: 0s - loss: 0.6595 - accuracy: 0.7031\n",
      "Epoch 14: val_accuracy improved from 0.71667 to 0.72000, saving model to /content/checkpoint\n",
      "115/115 [==============================] - 7s 63ms/step - loss: 0.6598 - accuracy: 0.7028 - val_loss: 0.6421 - val_accuracy: 0.7200 - lr: 4.8039e-05\n",
      "Epoch 15/100\n",
      "115/115 [==============================] - ETA: 0s - loss: 0.6464 - accuracy: 0.7150\n",
      "Epoch 15: val_accuracy did not improve from 0.72000\n",
      "115/115 [==============================] - 5s 47ms/step - loss: 0.6464 - accuracy: 0.7150 - val_loss: 0.6517 - val_accuracy: 0.7133 - lr: 4.7561e-05\n",
      "Epoch 16/100\n",
      "114/115 [============================>.] - ETA: 0s - loss: 0.6347 - accuracy: 0.7214\n",
      "Epoch 16: val_accuracy improved from 0.72000 to 0.72600, saving model to /content/checkpoint\n",
      "115/115 [==============================] - 7s 59ms/step - loss: 0.6344 - accuracy: 0.7216 - val_loss: 0.6182 - val_accuracy: 0.7260 - lr: 4.7088e-05\n",
      "Epoch 17/100\n",
      "115/115 [==============================] - ETA: 0s - loss: 0.6224 - accuracy: 0.7276\n",
      "Epoch 17: val_accuracy improved from 0.72600 to 0.74667, saving model to /content/checkpoint\n",
      "115/115 [==============================] - 7s 62ms/step - loss: 0.6224 - accuracy: 0.7276 - val_loss: 0.6200 - val_accuracy: 0.7467 - lr: 4.6620e-05\n",
      "Epoch 18/100\n",
      "114/115 [============================>.] - ETA: 0s - loss: 0.6201 - accuracy: 0.7294\n",
      "Epoch 18: val_accuracy did not improve from 0.74667\n",
      "115/115 [==============================] - 5s 46ms/step - loss: 0.6202 - accuracy: 0.7293 - val_loss: 0.6413 - val_accuracy: 0.7047 - lr: 4.6156e-05\n",
      "Epoch 19/100\n",
      "115/115 [==============================] - ETA: 0s - loss: 0.6168 - accuracy: 0.7356\n",
      "Epoch 19: val_accuracy improved from 0.74667 to 0.75400, saving model to /content/checkpoint\n",
      "115/115 [==============================] - 7s 58ms/step - loss: 0.6168 - accuracy: 0.7356 - val_loss: 0.5863 - val_accuracy: 0.7540 - lr: 4.5697e-05\n",
      "Epoch 20/100\n",
      "115/115 [==============================] - ETA: 0s - loss: 0.5911 - accuracy: 0.7457\n",
      "Epoch 20: val_accuracy improved from 0.75400 to 0.76267, saving model to /content/checkpoint\n",
      "115/115 [==============================] - 7s 63ms/step - loss: 0.5911 - accuracy: 0.7457 - val_loss: 0.5850 - val_accuracy: 0.7627 - lr: 4.5242e-05\n",
      "Epoch 21/100\n",
      "114/115 [============================>.] - ETA: 0s - loss: 0.5827 - accuracy: 0.7486\n",
      "Epoch 21: val_accuracy improved from 0.76267 to 0.77200, saving model to /content/checkpoint\n",
      "115/115 [==============================] - 7s 58ms/step - loss: 0.5822 - accuracy: 0.7488 - val_loss: 0.5716 - val_accuracy: 0.7720 - lr: 4.4792e-05\n",
      "Epoch 22/100\n",
      "115/115 [==============================] - ETA: 0s - loss: 0.5757 - accuracy: 0.7557\n",
      "Epoch 22: val_accuracy did not improve from 0.77200\n",
      "115/115 [==============================] - 5s 46ms/step - loss: 0.5757 - accuracy: 0.7557 - val_loss: 0.5921 - val_accuracy: 0.7553 - lr: 4.4346e-05\n",
      "Epoch 23/100\n",
      "115/115 [==============================] - ETA: 0s - loss: 0.5653 - accuracy: 0.7602\n",
      "Epoch 23: val_accuracy did not improve from 0.77200\n",
      "115/115 [==============================] - 6s 48ms/step - loss: 0.5653 - accuracy: 0.7602 - val_loss: 0.5497 - val_accuracy: 0.7707 - lr: 4.3905e-05\n",
      "Epoch 24/100\n",
      "115/115 [==============================] - ETA: 0s - loss: 0.5573 - accuracy: 0.7611\n",
      "Epoch 24: val_accuracy improved from 0.77200 to 0.77400, saving model to /content/checkpoint\n",
      "115/115 [==============================] - 7s 57ms/step - loss: 0.5573 - accuracy: 0.7611 - val_loss: 0.5507 - val_accuracy: 0.7740 - lr: 4.3468e-05\n",
      "Epoch 25/100\n",
      "115/115 [==============================] - ETA: 0s - loss: 0.5604 - accuracy: 0.7636\n",
      "Epoch 25: val_accuracy improved from 0.77400 to 0.77600, saving model to /content/checkpoint\n",
      "115/115 [==============================] - 7s 62ms/step - loss: 0.5604 - accuracy: 0.7636 - val_loss: 0.5420 - val_accuracy: 0.7760 - lr: 4.3035e-05\n",
      "Epoch 26/100\n",
      "115/115 [==============================] - ETA: 0s - loss: 0.5460 - accuracy: 0.7714\n",
      "Epoch 26: val_accuracy improved from 0.77600 to 0.78667, saving model to /content/checkpoint\n",
      "115/115 [==============================] - 7s 62ms/step - loss: 0.5460 - accuracy: 0.7714 - val_loss: 0.5307 - val_accuracy: 0.7867 - lr: 4.2607e-05\n",
      "Epoch 27/100\n",
      "115/115 [==============================] - ETA: 0s - loss: 0.5400 - accuracy: 0.7725\n",
      "Epoch 27: val_accuracy did not improve from 0.78667\n",
      "115/115 [==============================] - 6s 49ms/step - loss: 0.5400 - accuracy: 0.7725 - val_loss: 0.5257 - val_accuracy: 0.7853 - lr: 4.2183e-05\n",
      "Epoch 28/100\n",
      "115/115 [==============================] - ETA: 0s - loss: 0.5371 - accuracy: 0.7750\n",
      "Epoch 28: val_accuracy improved from 0.78667 to 0.78733, saving model to /content/checkpoint\n",
      "115/115 [==============================] - 7s 57ms/step - loss: 0.5371 - accuracy: 0.7750 - val_loss: 0.5173 - val_accuracy: 0.7873 - lr: 4.1764e-05\n",
      "Epoch 29/100\n",
      "114/115 [============================>.] - ETA: 0s - loss: 0.5251 - accuracy: 0.7822\n",
      "Epoch 29: val_accuracy improved from 0.78733 to 0.79000, saving model to /content/checkpoint\n",
      "115/115 [==============================] - 7s 59ms/step - loss: 0.5249 - accuracy: 0.7825 - val_loss: 0.5279 - val_accuracy: 0.7900 - lr: 4.1348e-05\n",
      "Epoch 30/100\n",
      "115/115 [==============================] - ETA: 0s - loss: 0.5291 - accuracy: 0.7786\n",
      "Epoch 30: val_accuracy improved from 0.79000 to 0.79133, saving model to /content/checkpoint\n",
      "115/115 [==============================] - 8s 69ms/step - loss: 0.5291 - accuracy: 0.7786 - val_loss: 0.5231 - val_accuracy: 0.7913 - lr: 4.0937e-05\n",
      "Epoch 31/100\n",
      "115/115 [==============================] - ETA: 0s - loss: 0.5281 - accuracy: 0.7786\n",
      "Epoch 31: val_accuracy did not improve from 0.79133\n",
      "115/115 [==============================] - 5s 47ms/step - loss: 0.5281 - accuracy: 0.7786 - val_loss: 0.5224 - val_accuracy: 0.7847 - lr: 4.0529e-05\n",
      "Epoch 32/100\n",
      "115/115 [==============================] - ETA: 0s - loss: 0.5097 - accuracy: 0.7885\n",
      "Epoch 32: val_accuracy improved from 0.79133 to 0.80600, saving model to /content/checkpoint\n",
      "115/115 [==============================] - 7s 64ms/step - loss: 0.5097 - accuracy: 0.7885 - val_loss: 0.4893 - val_accuracy: 0.8060 - lr: 4.0126e-05\n",
      "Epoch 33/100\n",
      "115/115 [==============================] - ETA: 0s - loss: 0.5064 - accuracy: 0.7917\n",
      "Epoch 33: val_accuracy did not improve from 0.80600\n",
      "115/115 [==============================] - 5s 47ms/step - loss: 0.5064 - accuracy: 0.7917 - val_loss: 0.5552 - val_accuracy: 0.7753 - lr: 3.9727e-05\n",
      "Epoch 34/100\n",
      "114/115 [============================>.] - ETA: 0s - loss: 0.5119 - accuracy: 0.7891\n",
      "Epoch 34: val_accuracy did not improve from 0.80600\n",
      "115/115 [==============================] - 5s 47ms/step - loss: 0.5119 - accuracy: 0.7891 - val_loss: 0.5017 - val_accuracy: 0.7993 - lr: 3.9331e-05\n",
      "Epoch 35/100\n",
      "114/115 [============================>.] - ETA: 0s - loss: 0.4929 - accuracy: 0.7991\n",
      "Epoch 35: val_accuracy did not improve from 0.80600\n",
      "115/115 [==============================] - 6s 49ms/step - loss: 0.4928 - accuracy: 0.7991 - val_loss: 0.5223 - val_accuracy: 0.7880 - lr: 3.8940e-05\n",
      "Epoch 36/100\n",
      "115/115 [==============================] - ETA: 0s - loss: 0.4918 - accuracy: 0.7997\n",
      "Epoch 36: val_accuracy did not improve from 0.80600\n",
      "115/115 [==============================] - 6s 48ms/step - loss: 0.4918 - accuracy: 0.7997 - val_loss: 0.5502 - val_accuracy: 0.7787 - lr: 3.8553e-05\n",
      "Epoch 37/100\n",
      "115/115 [==============================] - ETA: 0s - loss: 0.4854 - accuracy: 0.8021\n",
      "Epoch 37: val_accuracy did not improve from 0.80600\n",
      "115/115 [==============================] - 5s 47ms/step - loss: 0.4854 - accuracy: 0.8021 - val_loss: 0.5018 - val_accuracy: 0.7987 - lr: 3.8169e-05\n",
      "Epoch 38/100\n",
      "115/115 [==============================] - ETA: 0s - loss: 0.5000 - accuracy: 0.7954\n",
      "Epoch 38: val_accuracy improved from 0.80600 to 0.81333, saving model to /content/checkpoint\n",
      "115/115 [==============================] - 7s 60ms/step - loss: 0.5000 - accuracy: 0.7954 - val_loss: 0.4711 - val_accuracy: 0.8133 - lr: 3.7789e-05\n",
      "Epoch 39/100\n",
      "114/115 [============================>.] - ETA: 0s - loss: 0.4793 - accuracy: 0.8048\n",
      "Epoch 39: val_accuracy did not improve from 0.81333\n",
      "115/115 [==============================] - 6s 50ms/step - loss: 0.4791 - accuracy: 0.8051 - val_loss: 0.4650 - val_accuracy: 0.8087 - lr: 3.7413e-05\n",
      "Epoch 40/100\n",
      "115/115 [==============================] - ETA: 0s - loss: 0.4656 - accuracy: 0.8094\n",
      "Epoch 40: val_accuracy did not improve from 0.81333\n",
      "115/115 [==============================] - 5s 47ms/step - loss: 0.4656 - accuracy: 0.8094 - val_loss: 0.4613 - val_accuracy: 0.8127 - lr: 3.7041e-05\n",
      "Epoch 41/100\n",
      "114/115 [============================>.] - ETA: 0s - loss: 0.4675 - accuracy: 0.8104\n",
      "Epoch 41: val_accuracy improved from 0.81333 to 0.82200, saving model to /content/checkpoint\n",
      "115/115 [==============================] - 8s 67ms/step - loss: 0.4673 - accuracy: 0.8105 - val_loss: 0.4520 - val_accuracy: 0.8220 - lr: 3.6672e-05\n",
      "Epoch 42/100\n",
      "115/115 [==============================] - ETA: 0s - loss: 0.4650 - accuracy: 0.8105\n",
      "Epoch 42: val_accuracy did not improve from 0.82200\n",
      "115/115 [==============================] - 5s 47ms/step - loss: 0.4650 - accuracy: 0.8105 - val_loss: 0.4636 - val_accuracy: 0.8213 - lr: 3.6307e-05\n",
      "Epoch 43/100\n",
      "115/115 [==============================] - ETA: 0s - loss: 0.4707 - accuracy: 0.8097\n",
      "Epoch 43: val_accuracy improved from 0.82200 to 0.82467, saving model to /content/checkpoint\n",
      "115/115 [==============================] - 8s 68ms/step - loss: 0.4707 - accuracy: 0.8097 - val_loss: 0.4667 - val_accuracy: 0.8247 - lr: 3.5946e-05\n",
      "Epoch 44/100\n",
      "115/115 [==============================] - ETA: 0s - loss: 0.4559 - accuracy: 0.8166\n",
      "Epoch 44: val_accuracy improved from 0.82467 to 0.82533, saving model to /content/checkpoint\n",
      "115/115 [==============================] - 7s 58ms/step - loss: 0.4559 - accuracy: 0.8166 - val_loss: 0.4444 - val_accuracy: 0.8253 - lr: 3.5589e-05\n",
      "Epoch 45/100\n",
      "115/115 [==============================] - ETA: 0s - loss: 0.4472 - accuracy: 0.8207\n",
      "Epoch 45: val_accuracy improved from 0.82533 to 0.82733, saving model to /content/checkpoint\n",
      "115/115 [==============================] - 7s 62ms/step - loss: 0.4472 - accuracy: 0.8207 - val_loss: 0.4431 - val_accuracy: 0.8273 - lr: 3.5234e-05\n",
      "Epoch 46/100\n",
      "114/115 [============================>.] - ETA: 0s - loss: 0.4461 - accuracy: 0.8204\n",
      "Epoch 46: val_accuracy did not improve from 0.82733\n",
      "115/115 [==============================] - 5s 47ms/step - loss: 0.4460 - accuracy: 0.8206 - val_loss: 0.4650 - val_accuracy: 0.8167 - lr: 3.4884e-05\n",
      "Epoch 47/100\n",
      "114/115 [============================>.] - ETA: 0s - loss: 0.4425 - accuracy: 0.8204\n",
      "Epoch 47: val_accuracy improved from 0.82733 to 0.82867, saving model to /content/checkpoint\n",
      "115/115 [==============================] - 7s 61ms/step - loss: 0.4424 - accuracy: 0.8203 - val_loss: 0.4314 - val_accuracy: 0.8287 - lr: 3.4537e-05\n",
      "Epoch 48/100\n",
      "115/115 [==============================] - ETA: 0s - loss: 0.4350 - accuracy: 0.8280\n",
      "Epoch 48: val_accuracy did not improve from 0.82867\n",
      "115/115 [==============================] - 5s 47ms/step - loss: 0.4350 - accuracy: 0.8280 - val_loss: 0.4468 - val_accuracy: 0.8173 - lr: 3.4193e-05\n",
      "Epoch 49/100\n",
      "115/115 [==============================] - ETA: 0s - loss: 0.4446 - accuracy: 0.8224\n",
      "Epoch 49: val_accuracy improved from 0.82867 to 0.83333, saving model to /content/checkpoint\n",
      "115/115 [==============================] - 7s 59ms/step - loss: 0.4446 - accuracy: 0.8224 - val_loss: 0.4304 - val_accuracy: 0.8333 - lr: 3.3853e-05\n",
      "Epoch 50/100\n",
      "115/115 [==============================] - ETA: 0s - loss: 0.4301 - accuracy: 0.8288\n",
      "Epoch 50: val_accuracy improved from 0.83333 to 0.83800, saving model to /content/checkpoint\n",
      "115/115 [==============================] - 8s 67ms/step - loss: 0.4301 - accuracy: 0.8288 - val_loss: 0.4145 - val_accuracy: 0.8380 - lr: 3.3516e-05\n",
      "Epoch 51/100\n",
      "114/115 [============================>.] - ETA: 0s - loss: 0.4333 - accuracy: 0.8289\n",
      "Epoch 51: val_accuracy did not improve from 0.83800\n",
      "115/115 [==============================] - 5s 47ms/step - loss: 0.4330 - accuracy: 0.8289 - val_loss: 0.4332 - val_accuracy: 0.8293 - lr: 3.3183e-05\n",
      "Epoch 52/100\n",
      "115/115 [==============================] - ETA: 0s - loss: 0.4261 - accuracy: 0.8284\n",
      "Epoch 52: val_accuracy did not improve from 0.83800\n",
      "115/115 [==============================] - 5s 47ms/step - loss: 0.4261 - accuracy: 0.8284 - val_loss: 0.4737 - val_accuracy: 0.8087 - lr: 3.2852e-05\n",
      "Epoch 53/100\n",
      "114/115 [============================>.] - ETA: 0s - loss: 0.4339 - accuracy: 0.8283\n",
      "Epoch 53: val_accuracy did not improve from 0.83800\n",
      "115/115 [==============================] - 6s 49ms/step - loss: 0.4340 - accuracy: 0.8283 - val_loss: 0.4264 - val_accuracy: 0.8267 - lr: 3.2525e-05\n",
      "Epoch 54/100\n",
      "115/115 [==============================] - ETA: 0s - loss: 0.4174 - accuracy: 0.8353\n",
      "Epoch 54: val_accuracy improved from 0.83800 to 0.84267, saving model to /content/checkpoint\n",
      "115/115 [==============================] - 8s 65ms/step - loss: 0.4174 - accuracy: 0.8353 - val_loss: 0.4056 - val_accuracy: 0.8427 - lr: 3.2202e-05\n",
      "Epoch 55/100\n",
      "114/115 [============================>.] - ETA: 0s - loss: 0.4225 - accuracy: 0.8334\n",
      "Epoch 55: val_accuracy did not improve from 0.84267\n",
      "115/115 [==============================] - 6s 48ms/step - loss: 0.4223 - accuracy: 0.8334 - val_loss: 0.4328 - val_accuracy: 0.8313 - lr: 3.1881e-05\n",
      "Epoch 56/100\n",
      "115/115 [==============================] - ETA: 0s - loss: 0.4295 - accuracy: 0.8279\n",
      "Epoch 56: val_accuracy improved from 0.84267 to 0.84467, saving model to /content/checkpoint\n",
      "115/115 [==============================] - 7s 60ms/step - loss: 0.4295 - accuracy: 0.8279 - val_loss: 0.4084 - val_accuracy: 0.8447 - lr: 3.1564e-05\n",
      "Epoch 57/100\n",
      "114/115 [============================>.] - ETA: 0s - loss: 0.4122 - accuracy: 0.8379\n",
      "Epoch 57: val_accuracy improved from 0.84467 to 0.84867, saving model to /content/checkpoint\n",
      "115/115 [==============================] - 7s 65ms/step - loss: 0.4127 - accuracy: 0.8378 - val_loss: 0.3942 - val_accuracy: 0.8487 - lr: 3.1250e-05\n",
      "Epoch 58/100\n",
      "114/115 [============================>.] - ETA: 0s - loss: 0.4022 - accuracy: 0.8422\n",
      "Epoch 58: val_accuracy did not improve from 0.84867\n",
      "115/115 [==============================] - 6s 50ms/step - loss: 0.4020 - accuracy: 0.8424 - val_loss: 0.4106 - val_accuracy: 0.8387 - lr: 3.0939e-05\n",
      "Epoch 59/100\n",
      "115/115 [==============================] - ETA: 0s - loss: 0.4071 - accuracy: 0.8391\n",
      "Epoch 59: val_accuracy improved from 0.84867 to 0.85000, saving model to /content/checkpoint\n",
      "115/115 [==============================] - 8s 66ms/step - loss: 0.4071 - accuracy: 0.8391 - val_loss: 0.4025 - val_accuracy: 0.8500 - lr: 3.0631e-05\n",
      "Epoch 60/100\n",
      "114/115 [============================>.] - ETA: 0s - loss: 0.4022 - accuracy: 0.8403\n",
      "Epoch 60: val_accuracy did not improve from 0.85000\n",
      "115/115 [==============================] - 6s 51ms/step - loss: 0.4020 - accuracy: 0.8402 - val_loss: 0.3993 - val_accuracy: 0.8440 - lr: 3.0327e-05\n",
      "Epoch 61/100\n",
      "115/115 [==============================] - ETA: 0s - loss: 0.3911 - accuracy: 0.8469\n",
      "Epoch 61: val_accuracy improved from 0.85000 to 0.85600, saving model to /content/checkpoint\n",
      "115/115 [==============================] - 7s 59ms/step - loss: 0.3911 - accuracy: 0.8469 - val_loss: 0.3910 - val_accuracy: 0.8560 - lr: 3.0025e-05\n",
      "Epoch 62/100\n",
      "114/115 [============================>.] - ETA: 0s - loss: 0.3929 - accuracy: 0.8473\n",
      "Epoch 62: val_accuracy did not improve from 0.85600\n",
      "115/115 [==============================] - 6s 49ms/step - loss: 0.3930 - accuracy: 0.8474 - val_loss: 0.4007 - val_accuracy: 0.8533 - lr: 2.9726e-05\n",
      "Epoch 63/100\n",
      "114/115 [============================>.] - ETA: 0s - loss: 0.4001 - accuracy: 0.8434\n",
      "Epoch 63: val_accuracy did not improve from 0.85600\n",
      "115/115 [==============================] - 6s 50ms/step - loss: 0.3997 - accuracy: 0.8435 - val_loss: 0.3935 - val_accuracy: 0.8500 - lr: 2.9430e-05\n",
      "Epoch 64/100\n",
      "115/115 [==============================] - ETA: 0s - loss: 0.3946 - accuracy: 0.8419\n",
      "Epoch 64: val_accuracy did not improve from 0.85600\n",
      "115/115 [==============================] - 5s 47ms/step - loss: 0.3946 - accuracy: 0.8419 - val_loss: 0.3846 - val_accuracy: 0.8547 - lr: 2.9137e-05\n",
      "Epoch 65/100\n",
      "114/115 [============================>.] - ETA: 0s - loss: 0.3970 - accuracy: 0.8438\n",
      "Epoch 65: val_accuracy improved from 0.85600 to 0.85667, saving model to /content/checkpoint\n",
      "115/115 [==============================] - 7s 63ms/step - loss: 0.3969 - accuracy: 0.8440 - val_loss: 0.3856 - val_accuracy: 0.8567 - lr: 2.8847e-05\n",
      "Epoch 66/100\n",
      "115/115 [==============================] - ETA: 0s - loss: 0.3855 - accuracy: 0.8487\n",
      "Epoch 66: val_accuracy did not improve from 0.85667\n",
      "115/115 [==============================] - 6s 50ms/step - loss: 0.3855 - accuracy: 0.8487 - val_loss: 0.4045 - val_accuracy: 0.8413 - lr: 2.8560e-05\n",
      "Epoch 67/100\n",
      "114/115 [============================>.] - ETA: 0s - loss: 0.3798 - accuracy: 0.8522\n",
      "Epoch 67: val_accuracy did not improve from 0.85667\n",
      "115/115 [==============================] - 5s 47ms/step - loss: 0.3796 - accuracy: 0.8521 - val_loss: 0.3944 - val_accuracy: 0.8473 - lr: 2.8276e-05\n",
      "Epoch 68/100\n",
      "114/115 [============================>.] - ETA: 0s - loss: 0.3773 - accuracy: 0.8541\n",
      "Epoch 68: val_accuracy did not improve from 0.85667\n",
      "115/115 [==============================] - 6s 50ms/step - loss: 0.3771 - accuracy: 0.8541 - val_loss: 0.4033 - val_accuracy: 0.8367 - lr: 2.7995e-05\n",
      "Epoch 69/100\n",
      "114/115 [============================>.] - ETA: 0s - loss: 0.3695 - accuracy: 0.8567\n",
      "Epoch 69: val_accuracy did not improve from 0.85667\n",
      "115/115 [==============================] - 6s 48ms/step - loss: 0.3695 - accuracy: 0.8568 - val_loss: 0.3884 - val_accuracy: 0.8533 - lr: 2.7716e-05\n",
      "Epoch 70/100\n",
      "114/115 [============================>.] - ETA: 0s - loss: 0.3766 - accuracy: 0.8537\n",
      "Epoch 70: val_accuracy improved from 0.85667 to 0.86400, saving model to /content/checkpoint\n",
      "115/115 [==============================] - 8s 66ms/step - loss: 0.3768 - accuracy: 0.8536 - val_loss: 0.3641 - val_accuracy: 0.8640 - lr: 2.7441e-05\n",
      "Epoch 71/100\n",
      "115/115 [==============================] - ETA: 0s - loss: 0.3769 - accuracy: 0.8537\n",
      "Epoch 71: val_accuracy did not improve from 0.86400\n",
      "115/115 [==============================] - 6s 51ms/step - loss: 0.3769 - accuracy: 0.8537 - val_loss: 0.3800 - val_accuracy: 0.8500 - lr: 2.7168e-05\n",
      "Epoch 72/100\n",
      "114/115 [============================>.] - ETA: 0s - loss: 0.3672 - accuracy: 0.8580\n",
      "Epoch 72: val_accuracy did not improve from 0.86400\n",
      "115/115 [==============================] - 6s 48ms/step - loss: 0.3674 - accuracy: 0.8579 - val_loss: 0.3831 - val_accuracy: 0.8467 - lr: 2.6897e-05\n",
      "Epoch 73/100\n",
      "115/115 [==============================] - ETA: 0s - loss: 0.3677 - accuracy: 0.8566\n",
      "Epoch 73: val_accuracy improved from 0.86400 to 0.86667, saving model to /content/checkpoint\n",
      "115/115 [==============================] - 8s 68ms/step - loss: 0.3677 - accuracy: 0.8566 - val_loss: 0.3625 - val_accuracy: 0.8667 - lr: 2.6630e-05\n",
      "Epoch 74/100\n",
      "115/115 [==============================] - ETA: 0s - loss: 0.3657 - accuracy: 0.8614\n",
      "Epoch 74: val_accuracy did not improve from 0.86667\n",
      "115/115 [==============================] - 6s 48ms/step - loss: 0.3657 - accuracy: 0.8614 - val_loss: 0.3656 - val_accuracy: 0.8633 - lr: 2.6365e-05\n",
      "Epoch 75/100\n",
      "114/115 [============================>.] - ETA: 0s - loss: 0.3655 - accuracy: 0.8566\n",
      "Epoch 75: val_accuracy did not improve from 0.86667\n",
      "115/115 [==============================] - 5s 48ms/step - loss: 0.3656 - accuracy: 0.8567 - val_loss: 0.3702 - val_accuracy: 0.8567 - lr: 2.6102e-05\n",
      "Epoch 76/100\n",
      "114/115 [============================>.] - ETA: 0s - loss: 0.3599 - accuracy: 0.8600\n",
      "Epoch 76: val_accuracy did not improve from 0.86667\n",
      "115/115 [==============================] - 6s 50ms/step - loss: 0.3600 - accuracy: 0.8599 - val_loss: 0.4363 - val_accuracy: 0.8280 - lr: 2.5843e-05\n",
      "Epoch 77/100\n",
      "114/115 [============================>.] - ETA: 0s - loss: 0.3628 - accuracy: 0.8593\n",
      "Epoch 77: val_accuracy did not improve from 0.86667\n",
      "115/115 [==============================] - 5s 47ms/step - loss: 0.3625 - accuracy: 0.8593 - val_loss: 0.3625 - val_accuracy: 0.8547 - lr: 2.5585e-05\n",
      "Epoch 78/100\n",
      "114/115 [============================>.] - ETA: 0s - loss: 0.3545 - accuracy: 0.8636\n",
      "Epoch 78: val_accuracy did not improve from 0.86667\n",
      "115/115 [==============================] - 6s 49ms/step - loss: 0.3541 - accuracy: 0.8636 - val_loss: 0.4283 - val_accuracy: 0.8240 - lr: 2.5331e-05\n",
      "Epoch 79/100\n",
      "115/115 [==============================] - ETA: 0s - loss: 0.3596 - accuracy: 0.8596\n",
      "Epoch 79: val_accuracy improved from 0.86667 to 0.86800, saving model to /content/checkpoint\n",
      "115/115 [==============================] - 7s 60ms/step - loss: 0.3596 - accuracy: 0.8596 - val_loss: 0.3533 - val_accuracy: 0.8680 - lr: 2.5079e-05\n",
      "Epoch 80/100\n",
      "115/115 [==============================] - ETA: 0s - loss: 0.3470 - accuracy: 0.8646\n",
      "Epoch 80: val_accuracy improved from 0.86800 to 0.86867, saving model to /content/checkpoint\n",
      "115/115 [==============================] - 7s 62ms/step - loss: 0.3470 - accuracy: 0.8646 - val_loss: 0.3471 - val_accuracy: 0.8687 - lr: 2.4829e-05\n",
      "Epoch 81/100\n",
      "114/115 [============================>.] - ETA: 0s - loss: 0.3552 - accuracy: 0.8627\n",
      "Epoch 81: val_accuracy did not improve from 0.86867\n",
      "115/115 [==============================] - 5s 48ms/step - loss: 0.3551 - accuracy: 0.8626 - val_loss: 0.3581 - val_accuracy: 0.8580 - lr: 2.4582e-05\n",
      "Epoch 82/100\n",
      "115/115 [==============================] - ETA: 0s - loss: 0.3451 - accuracy: 0.8649\n",
      "Epoch 82: val_accuracy improved from 0.86867 to 0.87200, saving model to /content/checkpoint\n",
      "115/115 [==============================] - 8s 67ms/step - loss: 0.3451 - accuracy: 0.8649 - val_loss: 0.3439 - val_accuracy: 0.8720 - lr: 2.4338e-05\n",
      "Epoch 83/100\n",
      "114/115 [============================>.] - ETA: 0s - loss: 0.3483 - accuracy: 0.8641\n",
      "Epoch 83: val_accuracy did not improve from 0.87200\n",
      "115/115 [==============================] - 6s 48ms/step - loss: 0.3484 - accuracy: 0.8641 - val_loss: 0.3551 - val_accuracy: 0.8587 - lr: 2.4095e-05\n",
      "Epoch 84/100\n",
      "114/115 [============================>.] - ETA: 0s - loss: 0.3473 - accuracy: 0.8662\n",
      "Epoch 84: val_accuracy improved from 0.87200 to 0.87600, saving model to /content/checkpoint\n",
      "115/115 [==============================] - 7s 65ms/step - loss: 0.3470 - accuracy: 0.8663 - val_loss: 0.3372 - val_accuracy: 0.8760 - lr: 2.3856e-05\n",
      "Epoch 85/100\n",
      "114/115 [============================>.] - ETA: 0s - loss: 0.3384 - accuracy: 0.8690\n",
      "Epoch 85: val_accuracy did not improve from 0.87600\n",
      "115/115 [==============================] - 5s 48ms/step - loss: 0.3381 - accuracy: 0.8692 - val_loss: 0.3340 - val_accuracy: 0.8747 - lr: 2.3618e-05\n",
      "Epoch 86/100\n",
      "115/115 [==============================] - ETA: 0s - loss: 0.3410 - accuracy: 0.8670\n",
      "Epoch 86: val_accuracy did not improve from 0.87600\n",
      "115/115 [==============================] - 6s 49ms/step - loss: 0.3410 - accuracy: 0.8670 - val_loss: 0.3710 - val_accuracy: 0.8493 - lr: 2.3383e-05\n",
      "Epoch 87/100\n",
      "115/115 [==============================] - ETA: 0s - loss: 0.3428 - accuracy: 0.8660\n",
      "Epoch 87: val_accuracy did not improve from 0.87600\n",
      "115/115 [==============================] - 6s 48ms/step - loss: 0.3428 - accuracy: 0.8660 - val_loss: 0.3337 - val_accuracy: 0.8747 - lr: 2.3151e-05\n",
      "Epoch 88/100\n",
      "114/115 [============================>.] - ETA: 0s - loss: 0.3393 - accuracy: 0.8699\n",
      "Epoch 88: val_accuracy improved from 0.87600 to 0.88200, saving model to /content/checkpoint\n",
      "115/115 [==============================] - 7s 63ms/step - loss: 0.3392 - accuracy: 0.8699 - val_loss: 0.3274 - val_accuracy: 0.8820 - lr: 2.2920e-05\n",
      "Epoch 89/100\n",
      "114/115 [============================>.] - ETA: 0s - loss: 0.3315 - accuracy: 0.8731\n",
      "Epoch 89: val_accuracy did not improve from 0.88200\n",
      "115/115 [==============================] - 6s 51ms/step - loss: 0.3317 - accuracy: 0.8729 - val_loss: 0.3436 - val_accuracy: 0.8700 - lr: 2.2692e-05\n",
      "Epoch 90/100\n",
      "114/115 [============================>.] - ETA: 0s - loss: 0.3401 - accuracy: 0.8692\n",
      "Epoch 90: val_accuracy did not improve from 0.88200\n",
      "115/115 [==============================] - 5s 47ms/step - loss: 0.3405 - accuracy: 0.8690 - val_loss: 0.3458 - val_accuracy: 0.8720 - lr: 2.2466e-05\n",
      "Epoch 91/100\n",
      "114/115 [============================>.] - ETA: 0s - loss: 0.3332 - accuracy: 0.8734\n",
      "Epoch 91: val_accuracy did not improve from 0.88200\n",
      "115/115 [==============================] - 6s 48ms/step - loss: 0.3331 - accuracy: 0.8735 - val_loss: 0.3815 - val_accuracy: 0.8533 - lr: 2.2243e-05\n",
      "Epoch 92/100\n",
      "115/115 [==============================] - ETA: 0s - loss: 0.3301 - accuracy: 0.8721\n",
      "Epoch 92: val_accuracy did not improve from 0.88200\n",
      "115/115 [==============================] - 6s 49ms/step - loss: 0.3301 - accuracy: 0.8721 - val_loss: 0.3234 - val_accuracy: 0.8793 - lr: 2.2022e-05\n",
      "Epoch 93/100\n",
      "115/115 [==============================] - ETA: 0s - loss: 0.3279 - accuracy: 0.8742\n",
      "Epoch 93: val_accuracy did not improve from 0.88200\n",
      "115/115 [==============================] - 5s 47ms/step - loss: 0.3279 - accuracy: 0.8742 - val_loss: 0.3272 - val_accuracy: 0.8727 - lr: 2.1802e-05\n",
      "Epoch 94/100\n",
      "114/115 [============================>.] - ETA: 0s - loss: 0.3313 - accuracy: 0.8724\n",
      "Epoch 94: val_accuracy did not improve from 0.88200\n",
      "115/115 [==============================] - 6s 49ms/step - loss: 0.3313 - accuracy: 0.8724 - val_loss: 0.3381 - val_accuracy: 0.8727 - lr: 2.1586e-05\n",
      "Epoch 95/100\n",
      "115/115 [==============================] - ETA: 0s - loss: 0.3304 - accuracy: 0.8695\n",
      "Epoch 95: val_accuracy did not improve from 0.88200\n",
      "115/115 [==============================] - 6s 51ms/step - loss: 0.3304 - accuracy: 0.8695 - val_loss: 0.3350 - val_accuracy: 0.8727 - lr: 2.1371e-05\n",
      "Epoch 96/100\n",
      "115/115 [==============================] - ETA: 0s - loss: 0.3300 - accuracy: 0.8741\n",
      "Epoch 96: val_accuracy did not improve from 0.88200\n",
      "115/115 [==============================] - 6s 49ms/step - loss: 0.3300 - accuracy: 0.8741 - val_loss: 0.3752 - val_accuracy: 0.8573 - lr: 2.1158e-05\n",
      "Epoch 97/100\n",
      "115/115 [==============================] - ETA: 0s - loss: 0.3261 - accuracy: 0.8750\n",
      "Epoch 97: val_accuracy did not improve from 0.88200\n",
      "115/115 [==============================] - 6s 50ms/step - loss: 0.3261 - accuracy: 0.8750 - val_loss: 0.3368 - val_accuracy: 0.8687 - lr: 2.0948e-05\n",
      "Epoch 98/100\n",
      "114/115 [============================>.] - ETA: 0s - loss: 0.3174 - accuracy: 0.8782\n",
      "Epoch 98: val_accuracy did not improve from 0.88200\n",
      "115/115 [==============================] - 6s 51ms/step - loss: 0.3173 - accuracy: 0.8782 - val_loss: 0.3195 - val_accuracy: 0.8793 - lr: 2.0739e-05\n",
      "Epoch 99/100\n",
      "114/115 [============================>.] - ETA: 0s - loss: 0.3187 - accuracy: 0.8797\n",
      "Epoch 99: val_accuracy improved from 0.88200 to 0.88467, saving model to /content/checkpoint\n",
      "115/115 [==============================] - 8s 67ms/step - loss: 0.3187 - accuracy: 0.8796 - val_loss: 0.3153 - val_accuracy: 0.8847 - lr: 2.0533e-05\n",
      "Epoch 100/100\n",
      "115/115 [==============================] - ETA: 0s - loss: 0.3153 - accuracy: 0.8785\n",
      "Epoch 100: val_accuracy did not improve from 0.88467\n",
      "115/115 [==============================] - 6s 50ms/step - loss: 0.3153 - accuracy: 0.8785 - val_loss: 0.3248 - val_accuracy: 0.8787 - lr: 2.0328e-05\n"
     ]
    },
    {
     "data": {
      "text/plain": [
       "<keras.src.callbacks.History at 0x77fba9b97940>"
      ]
     },
     "execution_count": 21,
     "metadata": {},
     "output_type": "execute_result"
    }
   ],
   "source": [
    "\n",
    "### Train the model for 100 epochs, using the callbacks you have created. Store\n",
    "### the losses and metrics in a history object.\n",
    "\n",
    "# Training the model and storing a history object\n",
    "history = model.fit(train_ds,\n",
    "                    epochs=100,\n",
    "                    validation_data=valid_ds,\n",
    "                    callbacks=[checkpoint_callback, lr_callback])\n",
    "history"
   ]
  },
  {
   "cell_type": "markdown",
   "metadata": {
    "id": "hkaP8sRwKLYn"
   },
   "source": [
    "# Model Evaluation\n",
    "\n",
    "**Create plots using the losses and metrics. In your report, discuss these results and critically evaluate the models performance.**"
   ]
  },
  {
   "cell_type": "code",
   "execution_count": 22,
   "metadata": {
    "colab": {
     "base_uri": "https://localhost:8080/",
     "height": 507
    },
    "id": "V-zTj4ZZKQ2p",
    "outputId": "e3faf263-cd01-4753-9e27-b8f3e2c65166"
   },
   "outputs": [
    {
     "data": {
      "image/png": "[encoded data removed]",
      "text/plain": [
       "<Figure size 1200x500 with 2 Axes>"
      ]
     },
     "metadata": {},
     "output_type": "display_data"
    }
   ],
   "source": [
    "\n",
    "\n",
    "\n",
    "# creating plots\n",
    "\n",
    "# get training history\n",
    "train_loss = history.history['loss']\n",
    "val_loss = history.history['val_loss']\n",
    "train_accuracy = history.history['accuracy']\n",
    "val_accuracy = history.history['val_accuracy']\n",
    "\n",
    "# plot training and validation losses\n",
    "plt.figure(figsize=(12, 5))\n",
    "\n",
    "plt.subplot(1, 2, 1)\n",
    "plt.plot(train_loss, label='Train Loss')\n",
    "plt.plot(val_loss, label='Validation Loss')\n",
    "plt.title('Training and Validation Losses')\n",
    "plt.xlabel('Epoch')\n",
    "plt.ylabel('Loss')\n",
    "plt.legend()\n",
    "\n",
    "# plot training and validation accuracy\n",
    "plt.subplot(1, 2, 2)\n",
    "plt.plot(train_accuracy, label='Train Accuracy')\n",
    "plt.plot(val_accuracy, label='Validation Accuracy')\n",
    "plt.title('Training and Validation Accuracy')\n",
    "plt.xlabel('Epoch')\n",
    "plt.ylabel('Accuracy')\n",
    "plt.legend()\n",
    "\n",
    "plt.tight_layout()\n",
    "plt.show()\n"
   ]
  },
  {
   "cell_type": "markdown",
   "metadata": {
    "id": "be9li89iSP6E"
   },
   "source": [
    "**Load the best weights from your model checkpoint, and create plots demonstrating the classification perfomnce for all three classes. Include these plots in your report, and critically evaluate on the performance of the model across the classes.**"
   ]
  },
  {
   "cell_type": "code",
   "execution_count": 32,
   "metadata": {
    "colab": {
     "base_uri": "https://localhost:8080/",
     "height": 668
    },
    "id": "x7BtdNrsSlai",
    "outputId": "b932bd2d-b429-44b8-8060-f85db005c97a"
   },
   "outputs": [
    {
     "name": "stdout",
     "output_type": "stream",
     "text": [
      "12/12 [==============================] - 6s 419ms/step\n",
      "Confusion Matrix:\n",
      "                 Predicted Cats  Predicted Dogs  Predicted Wildlife\n",
      "Actual Cats                 174             166                 160\n",
      "Actual Dogs                 172             172                 156\n",
      "Actual Wildlife             169             174                 157\n"
     ]
    },
    {
     "data": {
      "image/png": "[encoded data removed]",
      "text/plain": [
       "<Figure size 800x600 with 1 Axes>"
      ]
     },
     "metadata": {},
     "output_type": "display_data"
    }
   ],
   "source": [
    "\n",
    "\n",
    "# loading the best weights from the model checkpoint\n",
    "model.load_weights(checkpoint_filepath)\n",
    "\n",
    "# creating dataset for prediction\n",
    "prediction_ds = valid_list_ds.map(parse_image, num_parallel_calls=tf.data.AUTOTUNE)\n",
    "prediction_ds = prediction_ds.map(img_process, num_parallel_calls=tf.data.AUTOTUNE)\n",
    "prediction_ds = prediction_ds.batch(128)\n",
    "\n",
    "#  predicting\n",
    "predictions = model.predict(prediction_ds)\n",
    "\n",
    "# extracting true labels\n",
    "true_labels = []\n",
    "for img, label in prediction_ds:\n",
    "    true_labels.extend(label.numpy())\n",
    "\n",
    "# convert predictions probabilities to class labels\n",
    "predicted_labels = tf.argmax(predictions, axis=1).numpy()\n",
    "\n",
    "# creating and plotting confusion matrix\n",
    "conf_matrix_result = cf_(true_labels, predicted_labels)\n",
    "\n",
    "# creating dataFrame from the confusion matrix\n",
    "conf_matrix_df_result = pd.DataFrame(conf_matrix_result, index=['Actual Cats', 'Actual Dogs', 'Actual Wildlife'],\n",
    "                                      columns=['Predicted Cats', 'Predicted Dogs', 'Predicted Wildlife'])\n",
    "\n",
    "# display the dataFrame\n",
    "print(\"Confusion Matrix:\")\n",
    "print(conf_matrix_df_result)\n",
    "\n",
    "# visualizing confusion matrix as a heatmap\n",
    "plt.figure(figsize=(8, 6))\n",
    "sns.heatmap(conf_matrix_result, annot=True, fmt='d', cmap='Blues', cbar=False,\n",
    "            xticklabels=['Predicted Cats', 'Predicted Dogs', 'Predicted Wildlife'],\n",
    "            yticklabels=['Actual Cats', 'Actual Dogs', 'Actual Wildlife'])\n",
    "plt.title('Confusion Matrix')\n",
    "plt.xlabel('Predicted Labels')\n",
    "plt.ylabel('True Labels')\n",
    "plt.show()\n"
   ]
  }
 ],
 "metadata": {
  "accelerator": "GPU",
  "colab": {
   "gpuType": "T4",
   "provenance": []
  },
  "kernelspec": {
   "display_name": "Python 3 (ipykernel)",
   "language": "python",
   "name": "python3"
  },
  "language_info": {
   "codemirror_mode": {
    "name": "ipython",
    "version": 3
   },
   "file_extension": ".py",
   "mimetype": "text/x-python",
   "name": "python",
   "nbconvert_exporter": "python",
   "pygments_lexer": "ipython3",
   "version": "3.9.18"
  }
 },
 "nbformat": 4,
 "nbformat_minor": 1
}
